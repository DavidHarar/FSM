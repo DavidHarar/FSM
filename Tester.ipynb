{
 "cells": [
  {
   "cell_type": "code",
   "execution_count": 1,
   "id": "1ee622f7",
   "metadata": {},
   "outputs": [],
   "source": [
    "import os\n",
    "import pandas as pd\n",
    "import numpy as np\n",
    "from mrmr import mrmr_classif\n",
    "from datetime import datetime\n",
    "from multiprocessing import cpu_count\n",
    "import mifs\n",
    "\n",
    "from utils import *\n",
    "import FSM"
   ]
  },
  {
   "cell_type": "code",
   "execution_count": 2,
   "id": "8ccc9ded",
   "metadata": {},
   "outputs": [],
   "source": [
    "# Load Data\n",
    "data = pd.read_csv('/Users/davidharar/Downloads/data_loan.csv', index_col = 0)\n",
    "X = data._get_numeric_data().drop(['default_ind'], axis = 1)\n",
    "y = data['default_ind']\n",
    "X_ = X.iloc[:10000]\n",
    "y_ = y.iloc[:10000]"
   ]
  },
  {
   "cell_type": "code",
   "execution_count": 3,
   "id": "e4be96c7",
   "metadata": {},
   "outputs": [],
   "source": []
  },
  {
   "cell_type": "code",
   "execution_count": 4,
   "id": "cef720ff",
   "metadata": {},
   "outputs": [
    {
     "name": "stderr",
     "output_type": "stream",
     "text": [
      "  0%|                                                       | 0/2 [00:00<?, ?it/s]"
     ]
    },
    {
     "name": "stdout",
     "output_type": "stream",
     "text": [
      "Created distance array in 0.13916015625 seconds.\n",
      "Feature scoring under way ...\n",
      "Completed scoring in 0.21947097778320312 seconds.\n",
      "Created distance array in 0.13859796524047852 seconds.\n",
      "Feature scoring under way ...\n",
      "Completed scoring in 0.12198495864868164 seconds.\n",
      "Created distance array in 0.13846516609191895 seconds.\n",
      "Feature scoring under way ...\n",
      "Completed scoring in 0.21501898765563965 seconds.\n",
      "Created distance array in 0.14614605903625488 seconds.\n",
      "Feature scoring under way ...\n"
     ]
    },
    {
     "name": "stderr",
     "output_type": "stream",
     "text": [
      " 50%|███████████████████████▌                       | 1/2 [00:02<00:02,  2.08s/it]"
     ]
    },
    {
     "name": "stdout",
     "output_type": "stream",
     "text": [
      "Completed scoring in 0.09189200401306152 seconds.\n",
      "Created distance array in 0.1381397247314453 seconds.\n",
      "Feature scoring under way ...\n",
      "Completed scoring in 0.21991395950317383 seconds.\n",
      "Created distance array in 0.13822412490844727 seconds.\n",
      "Feature scoring under way ...\n",
      "Completed scoring in 0.12454390525817871 seconds.\n",
      "Created distance array in 0.14723873138427734 seconds.\n",
      "Feature scoring under way ...\n",
      "Completed scoring in 0.2242271900177002 seconds.\n",
      "Created distance array in 0.15020322799682617 seconds.\n",
      "Feature scoring under way ...\n"
     ]
    },
    {
     "name": "stderr",
     "output_type": "stream",
     "text": [
      "100%|███████████████████████████████████████████████| 2/2 [00:04<00:00,  2.16s/it]"
     ]
    },
    {
     "name": "stdout",
     "output_type": "stream",
     "text": [
      "Completed scoring in 0.09047913551330566 seconds.\n"
     ]
    },
    {
     "name": "stderr",
     "output_type": "stream",
     "text": [
      "\n"
     ]
    }
   ],
   "source": [
    "selectors = FSM.FSM(k=20, filler = -1)\n",
    "results = selectors.Bootstrapper(X_, y_, B=2,Sample_size=100)\n",
    "\n",
    "# {'ANOVA': [array(['loan_amnt', 'int_rate', 'annual_inc', 'delinq_2yrs',\n",
    "#          'inq_last_6mths', 'mths_since_last_delinq',\n",
    "#          'mths_since_last_record', 'open_acc', 'pub_rec', 'revol_bal',\n",
    "#          'total_acc', 'out_prncp', 'out_prncp_inv', 'total_pymnt',\n",
    "#          'total_pymnt_inv', 'total_rec_prncp', 'total_rec_late_fee',\n",
    "#          'recoveries', 'collection_recovery_fee', 'last_pymnt_amnt'],\n",
    "#         dtype=object),\n",
    "#   array(['member_id', 'loan_amnt', 'funded_amnt', 'funded_amnt_inv',\n",
    "#          'int_rate', 'annual_inc', 'inq_last_6mths',\n",
    "#          'mths_since_last_record', 'open_acc', 'pub_rec', 'revol_bal',\n",
    "#          'revol_util', 'out_prncp', 'out_prncp_inv', 'total_pymnt',\n",
    "#          'total_pymnt_inv', 'total_rec_prncp', 'recoveries',\n",
    "#          'collection_recovery_fee', 'last_pymnt_amnt'], dtype=object)],\n",
    "#  'chi2': [array(['member_id', 'loan_amnt', 'funded_amnt', 'funded_amnt_inv',\n",
    "#          'annual_inc', 'mths_since_last_delinq', 'mths_since_last_record',\n",
    "#          'open_acc', 'revol_bal', 'total_acc', 'out_prncp', 'out_prncp_inv',\n",
    "#          'total_pymnt', 'total_pymnt_inv', 'total_rec_prncp',\n",
    "#           ..."
   ]
  },
  {
   "cell_type": "code",
   "execution_count": 19,
   "id": "7990fd9f",
   "metadata": {},
   "outputs": [
    {
     "data": {
      "text/plain": [
       "{'ANOVA': [array(['loan_amnt', 'int_rate', 'annual_inc', 'delinq_2yrs',\n",
       "         'inq_last_6mths', 'mths_since_last_delinq',\n",
       "         'mths_since_last_record', 'open_acc', 'pub_rec', 'revol_bal',\n",
       "         'total_acc', 'out_prncp', 'out_prncp_inv', 'total_pymnt',\n",
       "         'total_pymnt_inv', 'total_rec_prncp', 'total_rec_late_fee',\n",
       "         'recoveries', 'collection_recovery_fee', 'last_pymnt_amnt'],\n",
       "        dtype=object),\n",
       "  array(['member_id', 'loan_amnt', 'funded_amnt', 'funded_amnt_inv',\n",
       "         'int_rate', 'annual_inc', 'inq_last_6mths',\n",
       "         'mths_since_last_record', 'open_acc', 'pub_rec', 'revol_bal',\n",
       "         'revol_util', 'out_prncp', 'out_prncp_inv', 'total_pymnt',\n",
       "         'total_pymnt_inv', 'total_rec_prncp', 'recoveries',\n",
       "         'collection_recovery_fee', 'last_pymnt_amnt'], dtype=object)],\n",
       " 'chi2': [array(['member_id', 'loan_amnt', 'funded_amnt', 'funded_amnt_inv',\n",
       "         'annual_inc', 'mths_since_last_delinq', 'mths_since_last_record',\n",
       "         'open_acc', 'revol_bal', 'total_acc', 'out_prncp', 'out_prncp_inv',\n",
       "         'total_pymnt', 'total_pymnt_inv', 'total_rec_prncp',\n",
       "         'total_rec_int', 'total_rec_late_fee', 'recoveries',\n",
       "         'collection_recovery_fee', 'last_pymnt_amnt'], dtype=object),\n",
       "  array(['member_id', 'loan_amnt', 'funded_amnt', 'funded_amnt_inv',\n",
       "         'int_rate', 'installment', 'annual_inc', 'mths_since_last_record',\n",
       "         'revol_bal', 'revol_util', 'out_prncp', 'out_prncp_inv',\n",
       "         'total_pymnt', 'total_pymnt_inv', 'total_rec_prncp',\n",
       "         'total_rec_int', 'total_rec_late_fee', 'recoveries',\n",
       "         'collection_recovery_fee', 'last_pymnt_amnt'], dtype=object)],\n",
       " 'kruskal': [Index(['collection_recovery_fee', 'recoveries', 'out_prncp_inv', 'out_prncp',\n",
       "         'delinq_2yrs', 'total_rec_late_fee', 'pub_rec', 'acc_now_delinq',\n",
       "         'collections_12_mths_ex_med', 'inq_last_6mths', 'policy_code',\n",
       "         'revol_util', 'revol_bal', 'dti', 'total_pymnt', 'total_pymnt_inv',\n",
       "         'total_rec_int', 'last_pymnt_amnt', 'member_id', 'installment'],\n",
       "        dtype='object'),\n",
       "  Index(['collection_recovery_fee', 'recoveries', 'out_prncp_inv', 'out_prncp',\n",
       "         'delinq_2yrs', 'total_rec_late_fee', 'pub_rec', 'acc_now_delinq',\n",
       "         'collections_12_mths_ex_med', 'inq_last_6mths', 'policy_code',\n",
       "         'revol_bal', 'revol_util', 'dti', 'total_pymnt', 'total_pymnt_inv',\n",
       "         'total_rec_int', 'last_pymnt_amnt', 'member_id', 'installment'],\n",
       "        dtype='object')],\n",
       " 'cmim': [Index(['member_id', 'installment', 'total_rec_late_fee', 'pub_rec',\n",
       "         'delinq_2yrs', 'recoveries', 'collection_recovery_fee', 'funded_amnt',\n",
       "         'annual_inc', 'revol_bal', 'total_pymnt', 'total_pymnt_inv',\n",
       "         'total_rec_int', 'last_pymnt_amnt', 'collections_12_mths_ex_med',\n",
       "         'mths_since_last_major_derog', 'policy_code', 'annual_inc_joint',\n",
       "         'dti_joint', 'acc_now_delinq'],\n",
       "        dtype='object'),\n",
       "  Index(['member_id', 'loan_amnt', 'revol_bal', 'funded_amnt', 'dti',\n",
       "         'total_acc', 'total_pymnt', 'total_pymnt_inv', 'total_rec_int',\n",
       "         'last_pymnt_amnt', 'total_rec_late_fee', 'inq_last_6mths', 'open_acc',\n",
       "         'pub_rec', 'collections_12_mths_ex_med', 'mths_since_last_major_derog',\n",
       "         'policy_code', 'annual_inc_joint', 'dti_joint', 'acc_now_delinq'],\n",
       "        dtype='object')],\n",
       " 'disr': [Index(['member_id', 'loan_amnt', 'total_rec_prncp', 'recoveries',\n",
       "         'total_rec_late_fee', 'collection_recovery_fee',\n",
       "         'collections_12_mths_ex_med', 'mths_since_last_major_derog',\n",
       "         'policy_code', 'mths_since_last_record', 'annual_inc_joint',\n",
       "         'dti_joint', 'acc_now_delinq', 'tot_coll_amt', 'tot_cur_bal',\n",
       "         'installment', 'open_acc_6m', 'last_pymnt_amnt', 'revol_bal',\n",
       "         'total_pymnt'],\n",
       "        dtype='object'),\n",
       "  Index(['member_id', 'loan_amnt', 'recoveries', 'collection_recovery_fee',\n",
       "         'collections_12_mths_ex_med', 'mths_since_last_major_derog',\n",
       "         'policy_code', 'total_rec_prncp', 'total_rec_late_fee', 'revol_bal',\n",
       "         'total_pymnt', 'total_pymnt_inv', 'total_rec_int', 'last_pymnt_amnt',\n",
       "         'installment', 'annual_inc_joint', 'mths_since_last_delinq',\n",
       "         'funded_amnt_inv', 'annual_inc', 'revol_util'],\n",
       "        dtype='object')],\n",
       " 'mifs': [Index(['member_id', 'collections_12_mths_ex_med',\n",
       "         'mths_since_last_major_derog', 'policy_code', 'annual_inc_joint',\n",
       "         'dti_joint', 'acc_now_delinq', 'tot_coll_amt', 'tot_cur_bal',\n",
       "         'open_acc_6m', 'open_il_6m', 'open_il_12m', 'open_il_24m',\n",
       "         'mths_since_rcnt_il', 'total_bal_il', 'il_util', 'open_rv_12m',\n",
       "         'open_rv_24m', 'max_bal_bc', 'all_util'],\n",
       "        dtype='object'),\n",
       "  Index(['member_id', 'collections_12_mths_ex_med',\n",
       "         'mths_since_last_major_derog', 'policy_code', 'annual_inc_joint',\n",
       "         'dti_joint', 'acc_now_delinq', 'tot_coll_amt', 'tot_cur_bal',\n",
       "         'open_acc_6m', 'open_il_6m', 'open_il_12m', 'open_il_24m',\n",
       "         'mths_since_rcnt_il', 'total_bal_il', 'il_util', 'open_rv_12m',\n",
       "         'open_rv_24m', 'max_bal_bc', 'all_util'],\n",
       "        dtype='object')],\n",
       " 'fcbf': [Index(['recoveries', 'out_prncp'], dtype='object'),\n",
       "  Index(['recoveries', 'out_prncp', 'pub_rec'], dtype='object')],\n",
       " 'mrmr': [None, None],\n",
       " 'jmi': [None, None],\n",
       " 'jmim': [None, None],\n",
       " 'ReliefF': [Index(['recoveries', 'total_rec_late_fee', 'collection_recovery_fee',\n",
       "         'inq_last_6mths', 'int_rate', 'pub_rec', 'loan_amnt', 'funded_amnt',\n",
       "         'funded_amnt_inv', 'total_rec_prncp', 'installment', 'member_id',\n",
       "         'mths_since_last_record', 'total_rec_int', 'dti',\n",
       "         'mths_since_last_delinq', 'open_il_12m', 'inq_fi', 'total_rev_hi_lim',\n",
       "         'all_util', 'max_bal_bc', 'open_rv_24m', 'open_rv_12m', 'il_util',\n",
       "         'open_il_6m', 'total_bal_il', 'inq_last_12m', 'mths_since_rcnt_il',\n",
       "         'total_cu_tl', 'open_acc_6m', 'tot_cur_bal', 'tot_coll_amt',\n",
       "         'acc_now_delinq', 'dti_joint', 'annual_inc_joint', 'policy_code',\n",
       "         'mths_since_last_major_derog', 'collections_12_mths_ex_med',\n",
       "         'open_il_24m', 'total_pymnt', 'revol_util', 'total_pymnt_inv',\n",
       "         'annual_inc', 'revol_bal', 'delinq_2yrs', 'total_acc', 'open_acc',\n",
       "         'last_pymnt_amnt', 'out_prncp', 'out_prncp_inv'],\n",
       "        dtype='object'),\n",
       "  Index(['recoveries', 'collection_recovery_fee', 'int_rate', 'inq_last_6mths',\n",
       "         'installment', 'funded_amnt_inv', 'total_rec_prncp', 'funded_amnt',\n",
       "         'open_acc', 'loan_amnt', 'total_rec_late_fee', 'delinq_2yrs',\n",
       "         'dti_joint', 'total_cu_tl', 'collections_12_mths_ex_med',\n",
       "         'mths_since_last_major_derog', 'policy_code', 'annual_inc_joint',\n",
       "         'inq_last_12m', 'acc_now_delinq', 'total_bal_il', 'il_util',\n",
       "         'tot_coll_amt', 'open_rv_12m', 'open_rv_24m', 'max_bal_bc', 'all_util',\n",
       "         'mths_since_rcnt_il', 'total_rev_hi_lim', 'open_il_24m', 'open_il_12m',\n",
       "         'open_il_6m', 'inq_fi', 'open_acc_6m', 'tot_cur_bal',\n",
       "         'mths_since_last_delinq', 'dti', 'revol_util', 'member_id',\n",
       "         'total_pymnt_inv', 'total_pymnt', 'total_acc', 'total_rec_int',\n",
       "         'pub_rec', 'mths_since_last_record', 'last_pymnt_amnt', 'annual_inc',\n",
       "         'revol_bal', 'out_prncp_inv', 'out_prncp'],\n",
       "        dtype='object')],\n",
       " 'SURF': [Index(['recoveries', 'collection_recovery_fee', 'total_rec_late_fee',\n",
       "         'total_rec_prncp', 'inq_last_6mths', 'mths_since_last_record',\n",
       "         'pub_rec', 'member_id', 'il_util', 'policy_code', 'inq_fi',\n",
       "         'total_rev_hi_lim', 'all_util', 'total_bal_il', 'max_bal_bc',\n",
       "         'open_rv_24m', 'total_cu_tl', 'open_rv_12m',\n",
       "         'collections_12_mths_ex_med', 'mths_since_last_major_derog',\n",
       "         'inq_last_12m', 'annual_inc_joint', 'open_il_24m', 'acc_now_delinq',\n",
       "         'tot_coll_amt', 'tot_cur_bal', 'open_acc_6m', 'open_il_6m',\n",
       "         'mths_since_rcnt_il', 'dti_joint', 'open_il_12m', 'int_rate',\n",
       "         'loan_amnt', 'annual_inc', 'mths_since_last_delinq', 'funded_amnt_inv',\n",
       "         'funded_amnt', 'revol_bal', 'total_rec_int', 'total_pymnt',\n",
       "         'total_pymnt_inv', 'out_prncp_inv', 'out_prncp', 'delinq_2yrs',\n",
       "         'installment', 'total_acc', 'revol_util', 'last_pymnt_amnt', 'open_acc',\n",
       "         'dti'],\n",
       "        dtype='object'),\n",
       "  Index(['recoveries', 'total_rec_prncp', 'total_pymnt', 'total_pymnt_inv',\n",
       "         'collection_recovery_fee', 'int_rate', 'funded_amnt', 'loan_amnt',\n",
       "         'funded_amnt_inv', 'installment', 'acc_now_delinq', 'total_cu_tl',\n",
       "         'collections_12_mths_ex_med', 'mths_since_last_major_derog',\n",
       "         'policy_code', 'annual_inc_joint', 'dti_joint', 'inq_last_12m',\n",
       "         'tot_coll_amt', 'total_bal_il', 'open_rv_24m', 'total_rev_hi_lim',\n",
       "         'tot_cur_bal', 'inq_fi', 'all_util', 'open_rv_12m', 'il_util',\n",
       "         'max_bal_bc', 'mths_since_rcnt_il', 'open_il_24m', 'open_acc_6m',\n",
       "         'open_il_12m', 'open_il_6m', 'pub_rec', 'total_rec_late_fee',\n",
       "         'inq_last_6mths', 'open_acc', 'out_prncp_inv', 'mths_since_last_record',\n",
       "         'total_rec_int', 'out_prncp', 'delinq_2yrs', 'dti', 'last_pymnt_amnt',\n",
       "         'mths_since_last_delinq', 'revol_bal', 'revol_util', 'total_acc',\n",
       "         'member_id', 'annual_inc'],\n",
       "        dtype='object')],\n",
       " 'SURFstar': [Index(['total_rec_prncp', 'total_pymnt_inv', 'out_prncp_inv', 'out_prncp',\n",
       "         'total_pymnt', 'member_id', 'last_pymnt_amnt', 'total_rec_int',\n",
       "         'total_acc', 'annual_inc', 'revol_bal', 'dti_joint', 'total_cu_tl',\n",
       "         'collections_12_mths_ex_med', 'mths_since_last_major_derog',\n",
       "         'policy_code', 'annual_inc_joint', 'inq_last_12m', 'acc_now_delinq',\n",
       "         'total_bal_il', 'total_rev_hi_lim', 'tot_coll_amt', 'all_util',\n",
       "         'max_bal_bc', 'open_rv_24m', 'inq_fi', 'il_util', 'open_rv_12m',\n",
       "         'mths_since_rcnt_il', 'open_il_24m', 'open_il_12m', 'open_il_6m',\n",
       "         'open_acc_6m', 'tot_cur_bal', 'mths_since_last_delinq', 'loan_amnt',\n",
       "         'mths_since_last_record', 'funded_amnt_inv', 'open_acc', 'funded_amnt',\n",
       "         'int_rate', 'delinq_2yrs', 'installment', 'revol_util',\n",
       "         'inq_last_6mths', 'collection_recovery_fee', 'dti', 'pub_rec',\n",
       "         'total_rec_late_fee', 'recoveries'],\n",
       "        dtype='object'),\n",
       "  Index(['total_rec_prncp', 'total_pymnt', 'total_pymnt_inv', 'out_prncp_inv',\n",
       "         'out_prncp', 'funded_amnt', 'loan_amnt', 'revol_bal', 'funded_amnt_inv',\n",
       "         'last_pymnt_amnt', 'installment', 'total_rec_int', 'annual_inc',\n",
       "         'annual_inc_joint', 'total_cu_tl', 'collections_12_mths_ex_med',\n",
       "         'mths_since_last_major_derog', 'policy_code', 'inq_last_12m',\n",
       "         'dti_joint', 'total_bal_il', 'inq_fi', 'total_rev_hi_lim', 'all_util',\n",
       "         'max_bal_bc', 'acc_now_delinq', 'open_rv_12m', 'il_util', 'open_rv_24m',\n",
       "         'mths_since_rcnt_il', 'tot_coll_amt', 'open_il_12m', 'tot_cur_bal',\n",
       "         'open_il_6m', 'open_il_24m', 'open_acc_6m', 'pub_rec', 'dti',\n",
       "         'mths_since_last_delinq', 'open_acc', 'mths_since_last_record',\n",
       "         'total_acc', 'int_rate', 'inq_last_6mths', 'total_rec_late_fee',\n",
       "         'revol_util', 'member_id', 'delinq_2yrs', 'recoveries',\n",
       "         'collection_recovery_fee'],\n",
       "        dtype='object')],\n",
       " 'MultiSURF': [Index(['recoveries', 'collection_recovery_fee', 'total_rec_prncp',\n",
       "         'total_rec_late_fee', 'total_pymnt', 'total_pymnt_inv',\n",
       "         'mths_since_last_record', 'tot_coll_amt', 'total_cu_tl',\n",
       "         'collections_12_mths_ex_med', 'mths_since_last_major_derog',\n",
       "         'policy_code', 'annual_inc_joint', 'dti_joint', 'acc_now_delinq',\n",
       "         'inq_last_12m', 'tot_cur_bal', 'open_acc_6m', 'total_rev_hi_lim',\n",
       "         'all_util', 'max_bal_bc', 'open_rv_24m', 'open_rv_12m', 'il_util',\n",
       "         'inq_fi', 'total_bal_il', 'mths_since_rcnt_il', 'open_il_24m',\n",
       "         'open_il_12m', 'open_il_6m', 'out_prncp', 'out_prncp_inv', 'pub_rec',\n",
       "         'member_id', 'last_pymnt_amnt', 'delinq_2yrs', 'revol_bal',\n",
       "         'annual_inc', 'total_rec_int', 'inq_last_6mths',\n",
       "         'mths_since_last_delinq', 'funded_amnt_inv', 'funded_amnt', 'loan_amnt',\n",
       "         'installment', 'int_rate', 'total_acc', 'open_acc', 'dti',\n",
       "         'revol_util'],\n",
       "        dtype='object'),\n",
       "  Index(['recoveries', 'total_rec_prncp', 'total_pymnt', 'total_pymnt_inv',\n",
       "         'int_rate', 'collection_recovery_fee', 'funded_amnt', 'funded_amnt_inv',\n",
       "         'loan_amnt', 'installment', 'total_rec_late_fee', 'dti_joint',\n",
       "         'total_cu_tl', 'collections_12_mths_ex_med',\n",
       "         'mths_since_last_major_derog', 'policy_code', 'annual_inc_joint',\n",
       "         'inq_last_12m', 'acc_now_delinq', 'total_bal_il', 'max_bal_bc',\n",
       "         'open_rv_24m', 'inq_fi', 'tot_coll_amt', 'total_rev_hi_lim',\n",
       "         'open_rv_12m', 'il_util', 'all_util', 'open_il_6m', 'open_il_24m',\n",
       "         'open_il_12m', 'tot_cur_bal', 'open_acc_6m', 'mths_since_rcnt_il',\n",
       "         'open_acc', 'last_pymnt_amnt', 'delinq_2yrs', 'out_prncp_inv',\n",
       "         'out_prncp', 'total_rec_int', 'revol_bal', 'total_acc', 'pub_rec',\n",
       "         'inq_last_6mths', 'dti', 'annual_inc', 'mths_since_last_record',\n",
       "         'revol_util', 'member_id', 'mths_since_last_delinq'],\n",
       "        dtype='object')]}"
      ]
     },
     "execution_count": 19,
     "metadata": {},
     "output_type": "execute_result"
    }
   ],
   "source": [
    "results"
   ]
  },
  {
   "cell_type": "code",
   "execution_count": 11,
   "id": "8c5c0b52",
   "metadata": {},
   "outputs": [
    {
     "data": {
      "text/plain": [
       "array(['member_id', 'loan_amnt', 'funded_amnt', 'funded_amnt_inv',\n",
       "       'int_rate', 'annual_inc', 'dti', 'inq_last_6mths',\n",
       "       'mths_since_last_record', 'pub_rec', 'revol_util', 'out_prncp',\n",
       "       'out_prncp_inv', 'total_pymnt', 'total_pymnt_inv',\n",
       "       'total_rec_prncp', 'total_rec_late_fee', 'recoveries',\n",
       "       'collection_recovery_fee', 'last_pymnt_amnt'], dtype=object)"
      ]
     },
     "execution_count": 11,
     "metadata": {},
     "output_type": "execute_result"
    }
   ],
   "source": [
    "selectors = FSM.FSM(k=20, filler = -1)\n",
    "selectors.anova_inference(X_,y_)\n",
    "\n",
    "# array(['member_id', 'loan_amnt', 'funded_amnt', 'funded_amnt_inv',\n",
    "#        'int_rate', 'annual_inc', 'dti', 'inq_last_6mths',\n",
    "#        'mths_since_last_record', 'pub_rec', 'revol_util', 'out_prncp',\n",
    "#        'out_prncp_inv', 'total_pymnt', 'total_pymnt_inv',\n",
    "#        'total_rec_prncp', 'total_rec_late_fee', 'recoveries',\n",
    "#        'collection_recovery_fee', 'last_pymnt_amnt'], dtype=object)"
   ]
  },
  {
   "cell_type": "code",
   "execution_count": null,
   "id": "e57d392f",
   "metadata": {},
   "outputs": [],
   "source": [
    "selectors = FSM.FSM(k=20, filler = -1)\n",
    "selectors.chi2(X_,y_)\n",
    "\n",
    "# array(['member_id', 'loan_amnt', 'funded_amnt', 'funded_amnt_inv',\n",
    "#        'int_rate', 'installment', 'annual_inc', 'mths_since_last_record',\n",
    "#        'revol_bal', 'revol_util', 'out_prncp', 'out_prncp_inv',\n",
    "#        'total_pymnt', 'total_pymnt_inv', 'total_rec_prncp',\n",
    "#        'total_rec_int', 'total_rec_late_fee', 'recoveries',\n",
    "#        'collection_recovery_fee', 'last_pymnt_amnt'], dtype=object)"
   ]
  },
  {
   "cell_type": "code",
   "execution_count": 10,
   "id": "aa326223",
   "metadata": {},
   "outputs": [
    {
     "data": {
      "text/plain": [
       "Index(['recoveries', 'collection_recovery_fee', 'out_prncp_inv', 'out_prncp',\n",
       "       'delinq_2yrs', 'pub_rec', 'total_rec_late_fee', 'acc_now_delinq',\n",
       "       'collections_12_mths_ex_med', 'inq_last_6mths', 'policy_code',\n",
       "       'revol_bal', 'dti', 'last_pymnt_amnt', 'total_rec_int',\n",
       "       'total_rec_prncp', 'total_pymnt', 'total_pymnt_inv', 'member_id',\n",
       "       'installment'],\n",
       "      dtype='object')"
      ]
     },
     "execution_count": 10,
     "metadata": {},
     "output_type": "execute_result"
    }
   ],
   "source": [
    "selectors = FSM.FSM(k=20, filler = -1)\n",
    "selectors.kruskal_inference(X_,y_)\n",
    "\n",
    "# Index(['recoveries', 'collection_recovery_fee', 'out_prncp_inv', 'out_prncp',\n",
    "#        'delinq_2yrs', 'pub_rec', 'total_rec_late_fee', 'acc_now_delinq',\n",
    "#        'collections_12_mths_ex_med', 'inq_last_6mths', 'policy_code',\n",
    "#        'revol_bal', 'dti', 'last_pymnt_amnt', 'total_rec_int',\n",
    "#        'total_rec_prncp', 'total_pymnt', 'total_pymnt_inv', 'member_id',\n",
    "#        'installment'],\n",
    "#       dtype='object')"
   ]
  },
  {
   "cell_type": "code",
   "execution_count": 14,
   "id": "78366819",
   "metadata": {},
   "outputs": [
    {
     "data": {
      "text/plain": [
       "Index(['collection_recovery_fee', 'out_prncp'], dtype='object')"
      ]
     },
     "execution_count": 14,
     "metadata": {},
     "output_type": "execute_result"
    }
   ],
   "source": [
    "selectors = FSM.FSM(k=20, filler = -1)\n",
    "selectors.fcbf(X_,y_)\n",
    "\n",
    "# selectors = FSM.FSM(k=20, filler = -1)\n",
    "# selectors.fcbf(X_,y_)"
   ]
  },
  {
   "cell_type": "code",
   "execution_count": 15,
   "id": "128c78ac",
   "metadata": {},
   "outputs": [
    {
     "data": {
      "text/plain": [
       "Index(['member_id', 'funded_amnt_inv', 'installment', 'open_acc', 'revol_util',\n",
       "       'total_pymnt', 'delinq_2yrs', 'annual_inc', 'dti', 'revol_bal',\n",
       "       'total_acc', 'total_pymnt_inv', 'total_rec_prncp', 'total_rec_int',\n",
       "       'total_rec_late_fee', 'recoveries', 'inq_last_6mths',\n",
       "       'mths_since_last_record', 'collections_12_mths_ex_med',\n",
       "       'mths_since_last_major_derog'],\n",
       "      dtype='object')"
      ]
     },
     "execution_count": 15,
     "metadata": {},
     "output_type": "execute_result"
    }
   ],
   "source": [
    "selectors = FSM.FSM(k=20, filler = -1)\n",
    "selectors.cmim(X_,y_)\n",
    "\n",
    "# Index(['member_id', 'funded_amnt_inv', 'installment', 'open_acc', 'revol_util',\n",
    "#        'total_pymnt', 'delinq_2yrs', 'annual_inc', 'dti', 'revol_bal',\n",
    "#        'total_acc', 'total_pymnt_inv', 'total_rec_prncp', 'total_rec_int',\n",
    "#        'total_rec_late_fee', 'recoveries', 'inq_last_6mths',\n",
    "#        'mths_since_last_record', 'collections_12_mths_ex_med',\n",
    "#        'mths_since_last_major_derog'],\n",
    "#       dtype='object')"
   ]
  },
  {
   "cell_type": "code",
   "execution_count": 16,
   "id": "7dde7908",
   "metadata": {},
   "outputs": [
    {
     "data": {
      "text/plain": [
       "Index(['member_id', 'dti', 'recoveries', 'collection_recovery_fee',\n",
       "       'collections_12_mths_ex_med', 'mths_since_last_major_derog',\n",
       "       'policy_code', 'annual_inc_joint', 'total_rec_late_fee',\n",
       "       'total_rec_prncp', 'dti_joint', 'acc_now_delinq', 'tot_coll_amt',\n",
       "       'tot_cur_bal', 'total_pymnt', 'total_pymnt_inv', 'revol_bal',\n",
       "       'open_acc_6m', 'open_il_6m', 'open_il_12m'],\n",
       "      dtype='object')"
      ]
     },
     "execution_count": 16,
     "metadata": {},
     "output_type": "execute_result"
    }
   ],
   "source": [
    "selectors = FSM.FSM(k=20, filler = -1)\n",
    "selectors.disr(X_,y_)\n",
    "\n",
    "# Index(['member_id', 'dti', 'recoveries', 'collection_recovery_fee',\n",
    "#        'collections_12_mths_ex_med', 'mths_since_last_major_derog',\n",
    "#        'policy_code', 'annual_inc_joint', 'total_rec_late_fee',\n",
    "#        'total_rec_prncp', 'dti_joint', 'acc_now_delinq', 'tot_coll_amt',\n",
    "#        'tot_cur_bal', 'total_pymnt', 'total_pymnt_inv', 'revol_bal',\n",
    "#        'open_acc_6m', 'open_il_6m', 'open_il_12m'],\n",
    "#       dtype='object')"
   ]
  },
  {
   "cell_type": "code",
   "execution_count": 17,
   "id": "55ba8c88",
   "metadata": {},
   "outputs": [
    {
     "data": {
      "text/plain": [
       "Index(['member_id', 'collections_12_mths_ex_med',\n",
       "       'mths_since_last_major_derog', 'policy_code', 'annual_inc_joint',\n",
       "       'dti_joint', 'acc_now_delinq', 'tot_coll_amt', 'tot_cur_bal',\n",
       "       'open_acc_6m', 'open_il_6m', 'open_il_12m', 'open_il_24m',\n",
       "       'mths_since_rcnt_il', 'total_bal_il', 'il_util', 'open_rv_12m',\n",
       "       'open_rv_24m', 'max_bal_bc', 'all_util'],\n",
       "      dtype='object')"
      ]
     },
     "execution_count": 17,
     "metadata": {},
     "output_type": "execute_result"
    }
   ],
   "source": [
    "\n",
    "# Index(['member_id', 'collections_12_mths_ex_med',\n",
    "#        'mths_since_last_major_derog', 'policy_code', 'annual_inc_joint',\n",
    "#        'dti_joint', 'acc_now_delinq', 'tot_coll_amt', 'tot_cur_bal',\n",
    "#        'open_acc_6m', 'open_il_6m', 'open_il_12m', 'open_il_24m',\n",
    "#        'mths_since_rcnt_il', 'total_bal_il', 'il_util', 'open_rv_12m',\n",
    "#        'open_rv_24m', 'max_bal_bc', 'all_util'],\n",
    "#       dtype='object')"
   ]
  },
  {
   "cell_type": "code",
   "execution_count": 18,
   "id": "91b24589",
   "metadata": {
    "scrolled": true
   },
   "outputs": [
    {
     "ename": "KeyboardInterrupt",
     "evalue": "",
     "output_type": "error",
     "traceback": [
      "\u001b[0;31m---------------------------------------------------------------------------\u001b[0m",
      "\u001b[0;31mKeyboardInterrupt\u001b[0m                         Traceback (most recent call last)",
      "Input \u001b[0;32mIn [18]\u001b[0m, in \u001b[0;36m<cell line: 2>\u001b[0;34m()\u001b[0m\n\u001b[1;32m      1\u001b[0m selectors \u001b[38;5;241m=\u001b[39m FSM\u001b[38;5;241m.\u001b[39mFSM(k\u001b[38;5;241m=\u001b[39m\u001b[38;5;241m20\u001b[39m, filler \u001b[38;5;241m=\u001b[39m \u001b[38;5;241m-\u001b[39m\u001b[38;5;241m1\u001b[39m)\n\u001b[0;32m----> 2\u001b[0m \u001b[43mselectors\u001b[49m\u001b[38;5;241;43m.\u001b[39;49m\u001b[43mReliefF\u001b[49m\u001b[43m(\u001b[49m\u001b[43mX_\u001b[49m\u001b[43m,\u001b[49m\u001b[43my_\u001b[49m\u001b[43m)\u001b[49m\n",
      "File \u001b[0;32m~/Documents/PythonProjects/FeatureSelection/FSM.py:227\u001b[0m, in \u001b[0;36mFSM.ReliefF\u001b[0;34m(self, X, y)\u001b[0m\n\u001b[1;32m    223\u001b[0m \u001b[38;5;28;01mdef\u001b[39;00m \u001b[38;5;21mReliefF\u001b[39m(\u001b[38;5;28mself\u001b[39m, X, y):\n\u001b[1;32m    224\u001b[0m \n\u001b[1;32m    225\u001b[0m     \u001b[38;5;66;03m# Get selector\u001b[39;00m\n\u001b[1;32m    226\u001b[0m     ReliefF_selector \u001b[38;5;241m=\u001b[39m \u001b[38;5;28mself\u001b[39m\u001b[38;5;241m.\u001b[39mReliefF_selector\n\u001b[0;32m--> 227\u001b[0m     reliefF_res \u001b[38;5;241m=\u001b[39m \u001b[43mReliefF_selector\u001b[49m\u001b[38;5;241;43m.\u001b[39;49m\u001b[43mfit\u001b[49m\u001b[43m(\u001b[49m\u001b[43mX\u001b[49m\u001b[38;5;241;43m.\u001b[39;49m\u001b[43mvalues\u001b[49m\u001b[43m,\u001b[49m\u001b[43m \u001b[49m\u001b[43my\u001b[49m\u001b[38;5;241;43m.\u001b[39;49m\u001b[43mvalues\u001b[49m\u001b[43m)\u001b[49m\n\u001b[1;32m    228\u001b[0m     \u001b[38;5;28;01mreturn\u001b[39;00m X\u001b[38;5;241m.\u001b[39mcolumns[reliefF_res\u001b[38;5;241m.\u001b[39mtop_features_]\n",
      "File \u001b[0;32m/opt/homebrew/Caskroom/miniforge/base/lib/python3.9/site-packages/skrebate/relieff.py:180\u001b[0m, in \u001b[0;36mReliefF.fit\u001b[0;34m(self, X, y)\u001b[0m\n\u001b[1;32m    177\u001b[0m \u001b[38;5;124;03m\"\"\" For efficiency, the distance array is computed more efficiently for data with no missing values.\u001b[39;00m\n\u001b[1;32m    178\u001b[0m \u001b[38;5;124;03mThis distance array will only be used to identify nearest neighbors. \"\"\"\u001b[39;00m\n\u001b[1;32m    179\u001b[0m \u001b[38;5;28;01mif\u001b[39;00m \u001b[38;5;28mself\u001b[39m\u001b[38;5;241m.\u001b[39m_missing_data_count \u001b[38;5;241m>\u001b[39m \u001b[38;5;241m0\u001b[39m:\n\u001b[0;32m--> 180\u001b[0m     \u001b[38;5;28mself\u001b[39m\u001b[38;5;241m.\u001b[39m_distance_array \u001b[38;5;241m=\u001b[39m \u001b[38;5;28;43mself\u001b[39;49m\u001b[38;5;241;43m.\u001b[39;49m\u001b[43m_distarray_missing\u001b[49m\u001b[43m(\u001b[49m\u001b[43mxc\u001b[49m\u001b[43m,\u001b[49m\u001b[43m \u001b[49m\u001b[43mxd\u001b[49m\u001b[43m,\u001b[49m\u001b[43m \u001b[49m\u001b[43mcdiffs\u001b[49m\u001b[43m)\u001b[49m\n\u001b[1;32m    181\u001b[0m \u001b[38;5;28;01melse\u001b[39;00m:\n\u001b[1;32m    182\u001b[0m     \u001b[38;5;28mself\u001b[39m\u001b[38;5;241m.\u001b[39m_distance_array \u001b[38;5;241m=\u001b[39m \u001b[38;5;28mself\u001b[39m\u001b[38;5;241m.\u001b[39m_distarray_no_missing(xc, xd)\n",
      "File \u001b[0;32m/opt/homebrew/Caskroom/miniforge/base/lib/python3.9/site-packages/skrebate/relieff.py:357\u001b[0m, in \u001b[0;36mReliefF._distarray_missing\u001b[0;34m(self, xc, xd, cdiffs)\u001b[0m\n\u001b[1;32m    353\u001b[0m     dist_array \u001b[38;5;241m=\u001b[39m Parallel(n_jobs\u001b[38;5;241m=\u001b[39m\u001b[38;5;28mself\u001b[39m\u001b[38;5;241m.\u001b[39mn_jobs)(delayed(get_row_missing)(\n\u001b[1;32m    354\u001b[0m         xc, xd, cdiffs, index, cindices, dindices) \u001b[38;5;28;01mfor\u001b[39;00m index \u001b[38;5;129;01min\u001b[39;00m \u001b[38;5;28mrange\u001b[39m(\u001b[38;5;28mself\u001b[39m\u001b[38;5;241m.\u001b[39m_datalen))\n\u001b[1;32m    355\u001b[0m \u001b[38;5;28;01melse\u001b[39;00m:\n\u001b[1;32m    356\u001b[0m     \u001b[38;5;66;03m# For each instance calculate distance from all other instances (in non-redundant manner) (i.e. computes triangle, and puts zeros in for rest to form square).\u001b[39;00m\n\u001b[0;32m--> 357\u001b[0m     dist_array \u001b[38;5;241m=\u001b[39m [get_row_missing(xc, xd, cdiffs, index, cindices, dindices)\n\u001b[1;32m    358\u001b[0m                   \u001b[38;5;28;01mfor\u001b[39;00m index \u001b[38;5;129;01min\u001b[39;00m \u001b[38;5;28mrange\u001b[39m(\u001b[38;5;28mself\u001b[39m\u001b[38;5;241m.\u001b[39m_datalen)]\n\u001b[1;32m    360\u001b[0m \u001b[38;5;28;01mreturn\u001b[39;00m np\u001b[38;5;241m.\u001b[39marray(dist_array)\n",
      "File \u001b[0;32m/opt/homebrew/Caskroom/miniforge/base/lib/python3.9/site-packages/skrebate/relieff.py:357\u001b[0m, in \u001b[0;36m<listcomp>\u001b[0;34m(.0)\u001b[0m\n\u001b[1;32m    353\u001b[0m     dist_array \u001b[38;5;241m=\u001b[39m Parallel(n_jobs\u001b[38;5;241m=\u001b[39m\u001b[38;5;28mself\u001b[39m\u001b[38;5;241m.\u001b[39mn_jobs)(delayed(get_row_missing)(\n\u001b[1;32m    354\u001b[0m         xc, xd, cdiffs, index, cindices, dindices) \u001b[38;5;28;01mfor\u001b[39;00m index \u001b[38;5;129;01min\u001b[39;00m \u001b[38;5;28mrange\u001b[39m(\u001b[38;5;28mself\u001b[39m\u001b[38;5;241m.\u001b[39m_datalen))\n\u001b[1;32m    355\u001b[0m \u001b[38;5;28;01melse\u001b[39;00m:\n\u001b[1;32m    356\u001b[0m     \u001b[38;5;66;03m# For each instance calculate distance from all other instances (in non-redundant manner) (i.e. computes triangle, and puts zeros in for rest to form square).\u001b[39;00m\n\u001b[0;32m--> 357\u001b[0m     dist_array \u001b[38;5;241m=\u001b[39m [\u001b[43mget_row_missing\u001b[49m\u001b[43m(\u001b[49m\u001b[43mxc\u001b[49m\u001b[43m,\u001b[49m\u001b[43m \u001b[49m\u001b[43mxd\u001b[49m\u001b[43m,\u001b[49m\u001b[43m \u001b[49m\u001b[43mcdiffs\u001b[49m\u001b[43m,\u001b[49m\u001b[43m \u001b[49m\u001b[43mindex\u001b[49m\u001b[43m,\u001b[49m\u001b[43m \u001b[49m\u001b[43mcindices\u001b[49m\u001b[43m,\u001b[49m\u001b[43m \u001b[49m\u001b[43mdindices\u001b[49m\u001b[43m)\u001b[49m\n\u001b[1;32m    358\u001b[0m                   \u001b[38;5;28;01mfor\u001b[39;00m index \u001b[38;5;129;01min\u001b[39;00m \u001b[38;5;28mrange\u001b[39m(\u001b[38;5;28mself\u001b[39m\u001b[38;5;241m.\u001b[39m_datalen)]\n\u001b[1;32m    360\u001b[0m \u001b[38;5;28;01mreturn\u001b[39;00m np\u001b[38;5;241m.\u001b[39marray(dist_array)\n",
      "File \u001b[0;32m/opt/homebrew/Caskroom/miniforge/base/lib/python3.9/site-packages/skrebate/scoring_utils.py:65\u001b[0m, in \u001b[0;36mget_row_missing\u001b[0;34m(xc, xd, cdiffs, index, cindices, dindices)\u001b[0m\n\u001b[1;32m     63\u001b[0m c2 \u001b[38;5;241m=\u001b[39m np\u001b[38;5;241m.\u001b[39mdelete(cinst2, idx)  \u001b[38;5;66;03m# delete unique missing features from compared instance\u001b[39;00m\n\u001b[1;32m     64\u001b[0m \u001b[38;5;66;03m# delete unique missing features from continuous value difference scores\u001b[39;00m\n\u001b[0;32m---> 65\u001b[0m cdf \u001b[38;5;241m=\u001b[39m \u001b[43mnp\u001b[49m\u001b[38;5;241;43m.\u001b[39;49m\u001b[43mdelete\u001b[49m\u001b[43m(\u001b[49m\u001b[43mcdiffs\u001b[49m\u001b[43m,\u001b[49m\u001b[43m \u001b[49m\u001b[43midx\u001b[49m\u001b[43m)\u001b[49m\n\u001b[1;32m     67\u001b[0m \u001b[38;5;66;03m# Add discrete feature distance contributions (missing values excluded) - Hamming distance\u001b[39;00m\n\u001b[1;32m     68\u001b[0m dist \u001b[38;5;241m+\u001b[39m\u001b[38;5;241m=\u001b[39m \u001b[38;5;28mlen\u001b[39m(d1[d1 \u001b[38;5;241m!=\u001b[39m d2])\n",
      "File \u001b[0;32m<__array_function__ internals>:179\u001b[0m, in \u001b[0;36mdelete\u001b[0;34m(*args, **kwargs)\u001b[0m\n",
      "File \u001b[0;32m/opt/homebrew/Caskroom/miniforge/base/lib/python3.9/site-packages/numpy/lib/function_base.py:4955\u001b[0m, in \u001b[0;36m_delete_dispatcher\u001b[0;34m(arr, obj, axis)\u001b[0m\n\u001b[1;32m   4954\u001b[0m \u001b[38;5;28;01mdef\u001b[39;00m \u001b[38;5;21m_delete_dispatcher\u001b[39m(arr, obj, axis\u001b[38;5;241m=\u001b[39m\u001b[38;5;28;01mNone\u001b[39;00m):\n\u001b[0;32m-> 4955\u001b[0m     \u001b[38;5;28;01mreturn\u001b[39;00m (arr, obj)\n",
      "\u001b[0;31mKeyboardInterrupt\u001b[0m: "
     ]
    }
   ],
   "source": [
    "selectors = FSM.FSM(k=20, filler = -1)\n",
    "selectors.mifs(X_,y_)\n",
    "selectors.ReliefF(X_,y_)\n",
    "selectors.SURF(X_,y_)\n",
    "selectors.SURFstar(X_,y_)\n",
    "selectors.MultiSURF(X_,y_)\n"
   ]
  }
 ],
 "metadata": {
  "kernelspec": {
   "display_name": "Python 3 (ipykernel)",
   "language": "python",
   "name": "python3"
  },
  "language_info": {
   "codemirror_mode": {
    "name": "ipython",
    "version": 3
   },
   "file_extension": ".py",
   "mimetype": "text/x-python",
   "name": "python",
   "nbconvert_exporter": "python",
   "pygments_lexer": "ipython3",
   "version": "3.9.12"
  }
 },
 "nbformat": 4,
 "nbformat_minor": 5
}
